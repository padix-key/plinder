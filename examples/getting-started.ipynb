{
 "cells": [
  {
   "cell_type": "markdown",
   "id": "57dc35c4-61ab-4f80-aede-059307a58f36",
   "metadata": {},
   "source": [
    "# Welcome to plinder"
   ]
  },
  {
   "cell_type": "code",
   "execution_count": null,
   "id": "b94ae102-a17f-45fa-9819-8e2e39917523",
   "metadata": {},
   "outputs": [],
   "source": [
    "import plinder.core.utils.config\n",
    "\n",
    "cfg = plinder.core.utils.config.get_config()\n",
    "print(f\"\"\"\n",
    "local cache directory: {cfg.data.plinder_dir}\n",
    "remote data directory: {cfg.data.plinder_remote}\n",
    "\"\"\")"
   ]
  }
 ],
 "metadata": {
  "kernelspec": {
   "display_name": "Python 3 (ipykernel)",
   "language": "python",
   "name": "python3"
  },
  "language_info": {
   "codemirror_mode": {
    "name": "ipython",
    "version": 3
   },
   "file_extension": ".py",
   "mimetype": "text/x-python",
   "name": "python",
   "nbconvert_exporter": "python",
   "pygments_lexer": "ipython3",
   "version": "3.9.19"
  }
 },
 "nbformat": 4,
 "nbformat_minor": 5
}
